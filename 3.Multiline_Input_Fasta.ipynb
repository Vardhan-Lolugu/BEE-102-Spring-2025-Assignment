{
 "cells": [
  {
   "cell_type": "code",
   "execution_count": 5,
   "id": "6db5c2a7",
   "metadata": {
    "vscode": {
     "languageId": "python"
    }
   },
   "outputs": [],
   "source": [
    "def convert_fasta_to_single_line(input_file, output_file):\n",
    "    with open(input_file, 'r') as infile, open(output_file, 'w') as outfile:\n",
    "        sequence = \"\"\n",
    "        header = None\n",
    "        for line in infile:\n",
    "            line = line.strip()\n",
    "            if line.startswith(\">\"):  \n",
    "                if header:  \n",
    "                    outfile.write(f\"{header}\\n{sequence}\\n\")\n",
    "                header = line  \n",
    "                sequence = \"\"  \n",
    "            else:\n",
    "                sequence += line  \n",
    "        if header: \n",
    "            outfile.write(f\"{header}\\n{sequence}\\n\")\n",
    "\n",
    "input_file = \"multiline_input.fasta\" \n",
    "output_file = \"output.fasta\"  \n",
    "convert_fasta_to_single_line(input_file, output_file)"
   ]
  }
 ],
 "metadata": {
  "kernelspec": {
   "display_name": "Python [conda env:base] *",
   "language": "python",
   "name": "conda-base-py"
  },
  "language_info": {
   "codemirror_mode": {
    "name": "ipython",
    "version": 3
   },
   "file_extension": ".py",
   "mimetype": "text/x-python",
   "name": "python",
   "nbconvert_exporter": "python",
   "pygments_lexer": "ipython3",
   "version": "3.12.7"
  }
 },
 "nbformat": 4,
 "nbformat_minor": 5
}
