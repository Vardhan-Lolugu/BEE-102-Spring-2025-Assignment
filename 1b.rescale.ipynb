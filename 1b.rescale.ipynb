{
 "cells": [
  {
   "cell_type": "markdown",
   "metadata": {},
   "source": [
    "# Rescaling Query Data to Match Reference Distribution\n",
    "\n",
    "This notebook implements a method to rescale (subsample) query data from a BED file to match a reference distribution provided in a histogram file."
   ]
  },
  {
   "cell_type": "code",
   "execution_count": 2,
   "metadata": {},
   "outputs": [],
   "source": [
    "import gzip\n",
    "import numpy as np\n",
    "import matplotlib.pyplot as plt\n",
    "import random\n",
    "import sys\n",
    "import os\n",
    "import argparse"
   ]
  },
  {
   "cell_type": "markdown",
   "metadata": {},
   "source": [
    "## Helper Functions\n",
    "\n",
    "The following functions handle reading, processing, and rescaling the data."
   ]
  },
  {
   "cell_type": "code",
   "execution_count": 4,
   "metadata": {},
   "outputs": [],
   "source": [
    "def read_reference_hist(hist_file):\n",
    "    \"\"\"Read the reference histogram file and return bin indices and frequencies.\"\"\"\n",
    "    bins = []\n",
    "    frequencies = []\n",
    "    \n",
    "    with open(hist_file, 'r') as f:\n",
    "        for line in f:\n",
    "            parts = line.strip().split()\n",
    "            if len(parts) == 2:\n",
    "                try:\n",
    "                    bin_idx = int(parts[0])\n",
    "                    frequency = float(parts[1])\n",
    "                    bins.append(bin_idx)\n",
    "                    frequencies.append(frequency)\n",
    "                except ValueError:\n",
    "                    continue\n",
    "    \n",
    "    return np.array(bins), np.array(frequencies)"
   ]
  },
  {
   "cell_type": "code",
   "execution_count": 5,
   "metadata": {},
   "outputs": [],
   "source": [
    "def read_query_bed(bed_file):\n",
    "    \"\"\"Read the query bed file and extract values for binning.\"\"\"\n",
    "    values = []\n",
    "    \n",
    "    if bed_file.endswith('.gz'):\n",
    "        opener = gzip.open\n",
    "        mode = 'rt'  \n",
    "    else:\n",
    "        opener = open\n",
    "        mode = 'r'\n",
    "    \n",
    "    with opener(bed_file, mode) as f:\n",
    "        for line in f:\n",
    "            parts = line.strip().split('\\t')\n",
    "            if len(parts) >= 3:  \n",
    "                start = int(parts[1])\n",
    "                end = int(parts[2])\n",
    "                length = end - start\n",
    "                values.append(length)\n",
    "    \n",
    "    return np.array(values)"
   ]
  },
  {
   "cell_type": "code",
   "execution_count": 6,
   "metadata": {},
   "outputs": [],
   "source": [
    "def bin_values(values, min_bin=24, max_bin=700):\n",
    "    \"\"\"Bin the values and calculate normalized frequencies.\"\"\"\n",
    "    bins = range(min_bin, max_bin+1)\n",
    "    hist, bin_edges = np.histogram(values, bins=bins)\n",
    "    \n",
    "    total = np.sum(hist)\n",
    "    if total > 0:\n",
    "        normalized_hist = hist / total\n",
    "    else:\n",
    "        normalized_hist = hist\n",
    "    \n",
    "    bin_indices = np.arange(min_bin, max_bin)\n",
    "    \n",
    "    return bin_indices, normalized_hist"
   ]
  },
  {
   "cell_type": "code",
   "execution_count": 7,
   "metadata": {},
   "outputs": [],
   "source": [
    "def calculate_scaling_factors(ref_freq, query_freq):\n",
    "    \"\"\"Calculate scaling factors for each bin to match reference distribution.\"\"\"\n",
    "    scaling_factors = np.zeros_like(ref_freq)\n",
    "    mask = query_freq > 0\n",
    "    scaling_factors[mask] = ref_freq[mask] / query_freq[mask]\n",
    "    \n",
    "    window_size = 5\n",
    "    scaling_factors = np.convolve(scaling_factors, np.ones(window_size)/window_size, mode='same')\n",
    "    \n",
    "    max_factor = 10.0\n",
    "    scaling_factors = np.clip(scaling_factors, 0, max_factor)\n",
    "    \n",
    "    return scaling_factors"
   ]
  },
  {
   "cell_type": "code",
   "execution_count": 8,
   "metadata": {},
   "outputs": [],
   "source": [
    "def subsample_query_data(query_values, bin_indices, scaling_factors, min_bin=24, max_bin=700, target_count=4295020):\n",
    "    \"\"\"Subsample the query data based on scaling factors with a target count.\"\"\"\n",
    "    subsampled_values = []\n",
    "    original_entries = []\n",
    "    \n",
    "    bin_to_factor = {min_bin + i: factor for i, factor in enumerate(scaling_factors)}\n",
    "    \n",
    "    current_scaling_sum = 0\n",
    "    bin_counts = {}\n",
    "    \n",
    "    for value in query_values:\n",
    "        if min_bin <= value < max_bin:\n",
    "            bin_idx = value - min_bin\n",
    "            if bin_idx < len(scaling_factors):\n",
    "                bin_counts[bin_idx] = bin_counts.get(bin_idx, 0) + 1\n",
    "                \n",
    "    for bin_idx, count in bin_counts.items():\n",
    "        if bin_idx < len(scaling_factors):\n",
    "            current_scaling_sum += count * scaling_factors[bin_idx]\n",
    "    \n",
    "    adjustment_factor = target_count / current_scaling_sum if current_scaling_sum > 0 else 1.0\n",
    "    \n",
    "    for i, value in enumerate(query_values):\n",
    "        if min_bin <= value < max_bin:\n",
    "            bin_idx = value - min_bin\n",
    "            if bin_idx < len(scaling_factors):\n",
    "                final_scaling = scaling_factors[bin_idx] * adjustment_factor\n",
    "                if random.random() < final_scaling:\n",
    "                    subsampled_values.append(value)\n",
    "                    original_entries.append(i)\n",
    "    \n",
    "    return np.array(subsampled_values), np.array(original_entries)"
   ]
  },
  {
   "cell_type": "code",
   "execution_count": 9,
   "metadata": {},
   "outputs": [],
   "source": [
    "def write_subsampled_bed(original_bed_file, original_indices, output_file):\n",
    "    \"\"\"Write a new BED file with subsampled entries based on original indices.\"\"\"\n",
    "    if original_bed_file.endswith('.gz'):\n",
    "        opener = gzip.open\n",
    "        read_mode = 'rt'  \n",
    "    else:\n",
    "        opener = open\n",
    "        read_mode = 'r'\n",
    "    \n",
    "    indices_set = set(original_indices)\n",
    "    \n",
    "    if output_file.endswith('.gz'):\n",
    "        write_opener = gzip.open\n",
    "        write_mode = 'wt'  \n",
    "    else:\n",
    "        write_opener = open\n",
    "        write_mode = 'w'\n",
    "    \n",
    "    with opener(original_bed_file, read_mode) as infile, write_opener(output_file, write_mode) as outfile:\n",
    "        for i, line in enumerate(infile):\n",
    "            if i in indices_set:\n",
    "                outfile.write(line)"
   ]
  },
  {
   "cell_type": "code",
   "execution_count": 10,
   "metadata": {},
   "outputs": [],
   "source": [
    "def plot_distributions(ref_bins, ref_freq, query_bins, query_freq, subsampled_bins, subsampled_freq, output_file):\n",
    "    \"\"\"Plot the reference, original query, and subsampled query distributions.\"\"\"\n",
    "    plt.figure(figsize=(12, 8))\n",
    "    \n",
    "    plt.rcParams['axes.linewidth'] = 1.0\n",
    "    plt.rcParams['axes.edgecolor'] = 'black'\n",
    "    plt.rcParams['xtick.major.width'] = 1.0\n",
    "    plt.rcParams['ytick.major.width'] = 1.0\n",
    "    \n",
    "    query_count = len(query_values)\n",
    "    plt.plot(query_bins, query_freq, '-', color='#8800cc', linewidth=1.5, label=f'Query (n = {query_count:,})')\n",
    "    \n",
    "    plt.plot(ref_bins, ref_freq, '-', color='#00aa00', linewidth=1.5, label='Reference')\n",
    "    \n",
    "    subsampled_count = len(subsampled_values)\n",
    "    plt.plot(subsampled_bins, subsampled_freq, 'cyan', marker='*', \n",
    "             markersize=6, markevery=1, linewidth=1.0, label=f'Rep 0 (n = {subsampled_count:,})')\n",
    "    \n",
    "    plt.xlim(0, 700)\n",
    "    plt.ylim(0, 0.025)\n",
    "    \n",
    "    plt.xticks(np.arange(0, 701, 100))\n",
    "    plt.yticks(np.arange(0, 0.026, 0.005))\n",
    "    \n",
    "    plt.xlabel('Bin')\n",
    "    plt.ylabel('Normalized Frequency')\n",
    "    \n",
    "    plt.legend(loc='upper right', frameon=False)\n",
    "    \n",
    "    plt.grid(True, alpha=0.3, linestyle='-', linewidth=0.5)\n",
    "    \n",
    "    plt.show()"
   ]
  },
  {
   "cell_type": "code",
   "execution_count": 11,
   "metadata": {},
   "outputs": [],
   "source": [
    "def parse_arguments():\n",
    "    \"\"\"Parse command line arguments.\"\"\"\n",
    "    parser = argparse.ArgumentParser(description='Rescale query data to match reference distribution.')\n",
    "    parser.add_argument('--reference', '-r', default='reference.hist',\n",
    "                        help='Path to reference histogram file (default: reference.hist)')\n",
    "    parser.add_argument('--query', '-q', default='query.bed.gz',\n",
    "                        help='Path to query BED file (default: query.bed.gz)')\n",
    "    parser.add_argument('--output', '-o', default='subsampled_query.bed.gz',\n",
    "                        help='Path to output subsampled BED file (default: subsampled_query.bed.gz)')\n",
    "    parser.add_argument('--plot', '-p', default='distribution_comparison.png',\n",
    "                        help='Path to output plot file (default: distribution_comparison.png)')\n",
    "    parser.add_argument('--min-bin', type=int, default=24,\n",
    "                        help='Minimum bin value (default: 24)')\n",
    "    parser.add_argument('--max-bin', type=int, default=700,\n",
    "                        help='Maximum bin value (default: 700)')\n",
    "    return parser.parse_args()"
   ]
  },
  {
   "cell_type": "markdown",
   "metadata": {},
   "source": [
    "## Main Execution\n",
    "\n",
    "The following cells implement the main workflow for rescaling the data."
   ]
  },
  {
   "cell_type": "code",
   "execution_count": 13,
   "metadata": {},
   "outputs": [],
   "source": [
    "reference_hist_file = 'reference.hist'\n",
    "query_bed_file = 'query.bed.gz'\n",
    "output_bed_file = 'subsampled_query.bed.gz'\n",
    "plot_file = 'distribution_comparison.png'\n",
    "min_bin = 24\n",
    "max_bin = 700"
   ]
  },
  {
   "cell_type": "code",
   "execution_count": 14,
   "metadata": {},
   "outputs": [],
   "source": [
    "if not os.path.isabs(reference_hist_file):\n",
    "    script_dir = os.getcwd()\n",
    "    reference_hist_file = os.path.join(script_dir, reference_hist_file)\n",
    "\n",
    "if not os.path.isabs(query_bed_file):\n",
    "    script_dir = os.getcwd()\n",
    "    query_bed_file = os.path.join(script_dir, query_bed_file)\n",
    "\n",
    "if not os.path.isabs(output_bed_file):\n",
    "    script_dir = os.getcwd()\n",
    "    output_bed_file = os.path.join(script_dir, output_bed_file)\n",
    "\n",
    "if not os.path.isabs(plot_file):\n",
    "    script_dir = os.getcwd()\n",
    "    plot_file = os.path.join(script_dir, plot_file)"
   ]
  },
  {
   "cell_type": "code",
   "execution_count": 15,
   "metadata": {},
   "outputs": [
    {
     "name": "stdout",
     "output_type": "stream",
     "text": [
      "Reading reference histogram from: C:\\Users\\Vardh\\OneDrive - iitr.ac.in\\BEE\\Rescaling\\reference.hist\n",
      "Reference histogram has 677 bins\n"
     ]
    }
   ],
   "source": [
    "print(f\"Reading reference histogram from: {reference_hist_file}\")\n",
    "ref_bins, ref_freq = read_reference_hist(reference_hist_file)\n",
    "print(f\"Reference histogram has {len(ref_bins)} bins\")"
   ]
  },
  {
   "cell_type": "code",
   "execution_count": 16,
   "metadata": {},
   "outputs": [
    {
     "name": "stdout",
     "output_type": "stream",
     "text": [
      "Reading query data from: C:\\Users\\Vardh\\OneDrive - iitr.ac.in\\BEE\\Rescaling\\query.bed.gz\n",
      "Read 13835737 entries from query file\n"
     ]
    }
   ],
   "source": [
    "print(f\"Reading query data from: {query_bed_file}\")\n",
    "query_values = read_query_bed(query_bed_file)\n",
    "print(f\"Read {len(query_values)} entries from query file\")\n",
    "\n",
    "if len(query_values) == 0:\n",
    "    print(\"Error: No data read from query file. Please check the file format.\")\n",
    "    raise ValueError(\"No data in query file\")"
   ]
  },
  {
   "cell_type": "code",
   "execution_count": 17,
   "metadata": {},
   "outputs": [
    {
     "name": "stdout",
     "output_type": "stream",
     "text": [
      "Binned query data into 676 bins\n",
      "Using 676 bins for comparison\n"
     ]
    }
   ],
   "source": [
    "query_bins, query_freq = bin_values(query_values, min_bin=min_bin, max_bin=max_bin)\n",
    "print(f\"Binned query data into {len(query_bins)} bins\")\n",
    "\n",
    "min_len = min(len(ref_freq), len(query_bins))\n",
    "ref_freq_trimmed = ref_freq[:min_len]\n",
    "query_freq_trimmed = query_freq[:min_len]\n",
    "print(f\"Using {min_len} bins for comparison\")"
   ]
  },
  {
   "cell_type": "code",
   "execution_count": 18,
   "metadata": {},
   "outputs": [
    {
     "name": "stdout",
     "output_type": "stream",
     "text": [
      "Calculated scaling factors for subsampling\n"
     ]
    }
   ],
   "source": [
    "scaling_factors = calculate_scaling_factors(ref_freq_trimmed, query_freq_trimmed)\n",
    "print(\"Calculated scaling factors for subsampling\")"
   ]
  },
  {
   "cell_type": "code",
   "execution_count": 19,
   "metadata": {},
   "outputs": [
    {
     "name": "stdout",
     "output_type": "stream",
     "text": [
      "Subsampled to 4150324 entries (30.00% of original)\n"
     ]
    }
   ],
   "source": [
    "target_count = 4295020  \n",
    "subsampled_values, original_indices = subsample_query_data(\n",
    "    query_values, query_bins, scaling_factors, \n",
    "    min_bin=min_bin, max_bin=max_bin, \n",
    "    target_count=target_count\n",
    ")\n",
    "print(f\"Subsampled to {len(subsampled_values)} entries ({len(subsampled_values)/len(query_values)*100:.2f}% of original)\")\n",
    "\n",
    "if len(subsampled_values) == 0:\n",
    "    print(\"Warning: No entries were selected during subsampling. Check scaling factors.\")\n",
    "    raise ValueError(\"No entries selected during subsampling\")"
   ]
  },
  {
   "cell_type": "code",
   "execution_count": 20,
   "metadata": {},
   "outputs": [],
   "source": [
    "subsampled_bins, subsampled_freq = bin_values(subsampled_values, min_bin=min_bin, max_bin=max_bin)"
   ]
  },
  {
   "cell_type": "code",
   "execution_count": 21,
   "metadata": {},
   "outputs": [
    {
     "name": "stdout",
     "output_type": "stream",
     "text": [
      "Wrote subsampled data to: C:\\Users\\Vardh\\OneDrive - iitr.ac.in\\BEE\\Rescaling\\subsampled_query.bed.gz\n"
     ]
    }
   ],
   "source": [
    "write_subsampled_bed(query_bed_file, original_indices, output_bed_file)\n",
    "print(f\"Wrote subsampled data to: {output_bed_file}\")"
   ]
  },
  {
   "cell_type": "code",
   "execution_count": 22,
   "metadata": {
    "scrolled": true
   },
   "outputs": [
    {
     "data": {
      "image/png": "[encoded data removed]",
      "text/plain": [
       "<Figure size 1200x800 with 1 Axes>"
      ]
     },
     "metadata": {},
     "output_type": "display_data"
    }
   ],
   "source": [
    "plot_distributions(ref_bins[:min_len], ref_freq_trimmed, \n",
    "                  query_bins[:min_len], query_freq_trimmed, \n",
    "                  subsampled_bins, subsampled_freq, \n",
    "                  plot_file)"
   ]
  },
  {
   "cell_type": "code",
   "execution_count": 23,
   "metadata": {},
   "outputs": [
    {
     "name": "stdout",
     "output_type": "stream",
     "text": [
      "\n",
      "Rescaling completed successfully!\n",
      "Original query entries: 13835737\n",
      "Subsampled query entries: 4150324\n",
      "Retention rate: 30.00%\n"
     ]
    }
   ],
   "source": [
    "print(\"\\nRescaling completed successfully!\")\n",
    "print(f\"Original query entries: {len(query_values)}\")\n",
    "print(f\"Subsampled query entries: {len(subsampled_values)}\")\n",
    "print(f\"Retention rate: {len(subsampled_values)/len(query_values)*100:.2f}%\")"
   ]
  }
 ],
 "metadata": {
  "kernelspec": {
   "display_name": "Python [conda env:base] *",
   "language": "python",
   "name": "conda-base-py"
  },
  "language_info": {
   "codemirror_mode": {
    "name": "ipython",
    "version": 3
   },
   "file_extension": ".py",
   "mimetype": "text/x-python",
   "name": "python",
   "nbconvert_exporter": "python",
   "pygments_lexer": "ipython3",
   "version": "3.12.7"
  }
 },
 "nbformat": 4,
 "nbformat_minor": 4
}
