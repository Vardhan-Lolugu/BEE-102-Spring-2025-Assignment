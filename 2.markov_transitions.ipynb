{
 "cells": [
  {
   "cell_type": "code",
   "execution_count": 5,
   "id": "b8fdf6bf",
   "metadata": {},
   "outputs": [
    {
     "name": "stdin",
     "output_type": "stream",
     "text": [
      "Enter the DNA sequence:  AAACATAGGGATCATTCCGCGCGTAAGTTTT\n"
     ]
    },
    {
     "name": "stdout",
     "output_type": "stream",
     "text": [
      "\n",
      "Markov Transition Matrix (Table Format):\n",
      "          A         C         G         T\n",
      "A  0.333333  0.111111  0.222222  0.333333\n",
      "C  0.333333  0.166667  0.500000  0.000000\n",
      "G  0.142857  0.285714  0.285714  0.285714\n",
      "T  0.250000  0.250000  0.000000  0.500000\n"
     ]
    }
   ],
   "source": [
    "import pandas as pd\n",
    "from collections import defaultdict\n",
    "\n",
    "def calculate_transition_matrix(sequence):\n",
    "    transitions = defaultdict(lambda: defaultdict(int))\n",
    "    for i in range(len(sequence) - 1):\n",
    "        current_state = sequence[i]\n",
    "        next_state = sequence[i + 1]\n",
    "        transitions[current_state][next_state] += 1\n",
    "\n",
    "    transition_matrix = {}\n",
    "    for current_state, next_states in transitions.items():\n",
    "        total_transitions = sum(next_states.values())\n",
    "        transition_matrix[current_state] = {state: count / total_transitions for state, count in next_states.items()}\n",
    "    \n",
    "    return transition_matrix\n",
    "\n",
    "sequence = input(\"Enter the DNA sequence: \").upper()\n",
    "\n",
    "transition_matrix = calculate_transition_matrix(sequence)\n",
    "\n",
    "states = sorted(set(sequence))  # Get unique states from the sequence\n",
    "matrix_df = pd.DataFrame(0.0, index=states, columns=states)\n",
    "\n",
    "for current_state, next_states in transition_matrix.items():\n",
    "    for next_state, prob in next_states.items():\n",
    "        matrix_df.loc[current_state, next_state] = prob\n",
    "\n",
    "print(\"\\nMarkov Transition Matrix (Table Format):\")\n",
    "print(matrix_df)"
   ]
  }
 ],
 "metadata": {
  "kernelspec": {
   "display_name": "Python [conda env:base] *",
   "language": "python",
   "name": "conda-base-py"
  },
  "language_info": {
   "codemirror_mode": {
    "name": "ipython",
    "version": 3
   },
   "file_extension": ".py",
   "mimetype": "text/x-python",
   "name": "python",
   "nbconvert_exporter": "python",
   "pygments_lexer": "ipython3",
   "version": "3.12.7"
  }
 },
 "nbformat": 4,
 "nbformat_minor": 5
}
