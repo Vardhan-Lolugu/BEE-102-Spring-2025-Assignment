{
 "cells": [
  {
   "cell_type": "code",
   "execution_count": 1,
   "id": "e52598f7-4625-40c9-84f3-f59106320744",
   "metadata": {
    "vscode": {
     "languageId": "python"
    }
   },
   "outputs": [],
   "source": [
    "import numpy as np\n",
    "\n",
    "states = ['E', 'I']  # E: Exon, I: Intron\n",
    "\n",
    "transition_probs = {\n",
    "    'E': {'E': 0.9, 'I': 0.1},\n",
    "    'I': {'E': 0.1, 'I': 0.9}\n",
    "}\n",
    "\n",
    "emission_probs = {\n",
    "    'E': {'A': 0.25, 'C': 0.25, 'G': 0.25, 'T': 0.25},\n",
    "    'I': {'A': 0.4, 'C': 0.1, 'G': 0.1, 'T': 0.4}\n",
    "}\n",
    "\n",
    "observed_sequence = \"CTTCATGTGAAAGCAGACGTAAGTCA\""
   ]
  },
  {
   "cell_type": "code",
   "execution_count": 2,
   "id": "41bee720-b87a-4c7f-b3ef-1c9d69e5b24b",
   "metadata": {
    "vscode": {
     "languageId": "python"
    }
   },
   "outputs": [],
   "source": [
    "def get_log_prob_of_a_given_path(path, sequence):\n",
    "    log_prob = 0\n",
    "    for i in range(len(sequence)):\n",
    "        state = path[i]\n",
    "        nucleotide = sequence[i]\n",
    "        if i > 0:\n",
    "            prev_state = path[i - 1]\n",
    "            log_prob += np.log(transition_probs[prev_state][state])\n",
    "        log_prob += np.log(emission_probs[state][nucleotide])\n",
    "    return log_prob\n",
    "\n"
   ]
  },
  {
   "cell_type": "code",
   "execution_count": 3,
   "id": "908a717a-9c4a-4df3-a143-ded4a9b3d733",
   "metadata": {},
   "outputs": [
    {
     "name": "stdout",
     "output_type": "stream",
     "text": [
      "Most likely path: EEEEEEEEEEEEEEEEEEEEEEEEEE\n",
      "Log probability of the path: -38.677666280562796\n"
     ]
    }
   ],
   "source": [
    "def viterbi_algorithm(sequence):\n",
    "    n = len(sequence)\n",
    "    dp = np.zeros((len(states), n))  # Dynamic programming table\n",
    "    backpointer = np.zeros((len(states), n), dtype=int)  # Backpointer table\n",
    "\n",
    "    for i, state in enumerate(states):\n",
    "        dp[i, 0] = np.log(emission_probs[state][sequence[0]])\n",
    "\n",
    "    for t in range(1, n):\n",
    "        for i, state in enumerate(states):\n",
    "            max_prob = float('-inf')\n",
    "            max_state = 0\n",
    "            for j, prev_state in enumerate(states):\n",
    "                prob = dp[j, t - 1] + np.log(transition_probs[prev_state][state]) + np.log(emission_probs[state][sequence[t]])\n",
    "                if prob > max_prob:\n",
    "                    max_prob = prob\n",
    "                    max_state = j\n",
    "            dp[i, t] = max_prob\n",
    "            backpointer[i, t] = max_state\n",
    "\n",
    "    max_final_prob = float('-inf')\n",
    "    last_state = 0\n",
    "    for i, state in enumerate(states):\n",
    "        if dp[i, n - 1] > max_final_prob:\n",
    "            max_final_prob = dp[i, n - 1]\n",
    "            last_state = i\n",
    "\n",
    "    best_path = []\n",
    "    current_state = last_state\n",
    "    for t in range(n - 1, -1, -1):\n",
    "        best_path.append(states[current_state])\n",
    "        current_state = backpointer[current_state, t]\n",
    "    best_path.reverse()\n",
    "\n",
    "    return ''.join(best_path), max_final_prob\n",
    "\n",
    "path, log_prob = viterbi_algorithm(observed_sequence)\n",
    "print(\"Most likely path:\", path)\n",
    "print(\"Log probability of the path:\", log_prob)"
   ]
  },
  {
   "cell_type": "code",
   "execution_count": 4,
   "id": "59a3ade4-2cb8-48e7-a048-f9159cbc28b9",
   "metadata": {},
   "outputs": [
    {
     "name": "stdout",
     "output_type": "stream",
     "text": [
      "Log probability of the given path: -41.27374490729282\n"
     ]
    }
   ],
   "source": [
    "# Example for get_log_prob_of_a_given_path\n",
    "example_path = \"EEEEEEEEEEEEEEEEEEIIIIIIII\"\n",
    "example_sequence = \"CTTCATGTGAAAGCAGACGTAAGTCA\"\n",
    "log_prob_example = get_log_prob_of_a_given_path(example_path, example_sequence)\n",
    "print(\"Log probability of the given path:\", log_prob_example)"
   ]
  }
 ],
 "metadata": {
  "kernelspec": {
   "display_name": "Python [conda env:base] *",
   "language": "python",
   "name": "conda-base-py"
  },
  "language_info": {
   "codemirror_mode": {
    "name": "ipython",
    "version": 3
   },
   "file_extension": ".py",
   "mimetype": "text/x-python",
   "name": "python",
   "nbconvert_exporter": "python",
   "pygments_lexer": "ipython3",
   "version": "3.12.7"
  }
 },
 "nbformat": 4,
 "nbformat_minor": 5
}
